{
 "cells": [
  {
   "cell_type": "code",
   "execution_count": 1,
   "outputs": [],
   "source": [
    "import torch\n",
    "import pandas as pd\n",
    "from torch import nn\n",
    "from torch.utils.data import DataLoader, Dataset"
   ],
   "metadata": {
    "collapsed": false,
    "pycharm": {
     "name": "#%%\n"
    }
   }
  },
  {
   "cell_type": "code",
   "execution_count": 8,
   "outputs": [],
   "source": [
    "class Test(nn.Module):\n",
    "    def __init__(self):\n",
    "        super(Test,self).__init__()\n",
    "        self.register_module(\"fc\",nn.Linear(10,100))\n",
    "        self.fc2 = nn.Linear(100,1000)\n",
    "\n",
    "    def forward(self,x):\n",
    "        return x"
   ],
   "metadata": {
    "collapsed": false,
    "pycharm": {
     "name": "#%%\n"
    }
   }
  },
  {
   "cell_type": "code",
   "execution_count": 15,
   "outputs": [
    {
     "name": "stdout",
     "output_type": "stream",
     "text": [
      "('fc', Linear(in_features=10, out_features=100, bias=True))\n",
      "('fc2', Linear(in_features=100, out_features=1000, bias=True))\n"
     ]
    }
   ],
   "source": [
    "test = Test()\n",
    "for i in test.named_children():\n",
    "    print(i)"
   ],
   "metadata": {
    "collapsed": false,
    "pycharm": {
     "name": "#%%\n"
    }
   }
  },
  {
   "cell_type": "code",
   "execution_count": 19,
   "outputs": [
    {
     "name": "stdout",
     "output_type": "stream",
     "text": [
      "tensor([ 1.3686, -0.9640,  0.4653,  0.3602,  1.7615])\n",
      "tensor([1., 1., 1., 1., 1.])\n",
      "tensor([ 0.3686, -1.9640, -0.5347, -0.6398,  0.7615])\n",
      "tensor([[ 1.3686, -0.9640,  0.4653,  0.3602,  1.7615]])\n"
     ]
    }
   ],
   "source": [
    "a = torch.ones(5,requires_grad=False)\n",
    "b = torch.randn(5)\n",
    "c = a + b\n",
    "d = torch.ones(1,5)\n",
    "f = d * c\n",
    "print(c)\n",
    "print(a)\n",
    "print(b)\n",
    "print(f)"
   ],
   "metadata": {
    "collapsed": false,
    "pycharm": {
     "name": "#%%\n"
    }
   }
  },
  {
   "cell_type": "code",
   "execution_count": 2,
   "outputs": [
    {
     "data": {
      "text/plain": "tensor([ 0,  1,  2,  3,  4,  5,  6,  7,  8,  9, 10, 11])"
     },
     "execution_count": 2,
     "metadata": {},
     "output_type": "execute_result"
    }
   ],
   "source": [
    "x = torch.arange(12)\n",
    "x"
   ],
   "metadata": {
    "collapsed": false,
    "pycharm": {
     "name": "#%%\n"
    }
   }
  },
  {
   "cell_type": "code",
   "execution_count": 6,
   "outputs": [
    {
     "data": {
      "text/plain": "torch.Size([12])"
     },
     "execution_count": 6,
     "metadata": {},
     "output_type": "execute_result"
    }
   ],
   "source": [
    "x.shape"
   ],
   "metadata": {
    "collapsed": false,
    "pycharm": {
     "name": "#%%\n"
    }
   }
  },
  {
   "cell_type": "code",
   "execution_count": 5,
   "outputs": [
    {
     "data": {
      "text/plain": "12"
     },
     "execution_count": 5,
     "metadata": {},
     "output_type": "execute_result"
    }
   ],
   "source": [
    "x.numel()"
   ],
   "metadata": {
    "collapsed": false,
    "pycharm": {
     "name": "#%%\n"
    }
   }
  },
  {
   "cell_type": "code",
   "execution_count": 8,
   "outputs": [
    {
     "data": {
      "text/plain": "tensor([4., 2., 4., 6.])"
     },
     "execution_count": 8,
     "metadata": {},
     "output_type": "execute_result"
    }
   ],
   "source": [
    "x = torch.tensor([1.0,1,2,3])\n",
    "y = torch.tensor([3,1,2,3])\n",
    "z = x + y\n",
    "z"
   ],
   "metadata": {
    "collapsed": false,
    "pycharm": {
     "name": "#%%\n"
    }
   }
  },
  {
   "cell_type": "code",
   "execution_count": 9,
   "outputs": [
    {
     "data": {
      "text/plain": "tensor(16.)"
     },
     "execution_count": 9,
     "metadata": {},
     "output_type": "execute_result"
    }
   ],
   "source": [
    "z.sum()"
   ],
   "metadata": {
    "collapsed": false,
    "pycharm": {
     "name": "#%%\n"
    }
   }
  },
  {
   "cell_type": "code",
   "execution_count": 10,
   "outputs": [
    {
     "data": {
      "text/plain": "tensor([[ 0,  1,  2,  3,  4,  5,  6,  7],\n        [ 8,  9, 10, 11, 12, 13, 14, 15],\n        [16, 17, 18, 19, 20, 21, 22, 23]])"
     },
     "execution_count": 10,
     "metadata": {},
     "output_type": "execute_result"
    }
   ],
   "source": [
    "Y = torch.arange(24).reshape((3,8))\n",
    "Y"
   ],
   "metadata": {
    "collapsed": false,
    "pycharm": {
     "name": "#%%\n"
    }
   }
  },
  {
   "cell_type": "code",
   "execution_count": 11,
   "outputs": [
    {
     "data": {
      "text/plain": "tensor([16, 17, 18, 19, 20, 21, 22, 23])"
     },
     "execution_count": 11,
     "metadata": {},
     "output_type": "execute_result"
    }
   ],
   "source": [
    "Y[-1]"
   ],
   "metadata": {
    "collapsed": false,
    "pycharm": {
     "name": "#%%\n"
    }
   }
  },
  {
   "cell_type": "code",
   "execution_count": 14,
   "outputs": [
    {
     "data": {
      "text/plain": "tensor([[ 0,  1,  2,  3,  4,  5,  6,  7],\n        [ 8,  9, 10, 11, 12, 13, 14, 15]])"
     },
     "execution_count": 14,
     "metadata": {},
     "output_type": "execute_result"
    }
   ],
   "source": [
    "Y[0:2]"
   ],
   "metadata": {
    "collapsed": false,
    "pycharm": {
     "name": "#%%\n"
    }
   }
  },
  {
   "cell_type": "code",
   "execution_count": 16,
   "outputs": [
    {
     "data": {
      "text/plain": "tensor([[ 0,  1,  2,  3,  4,  5,  6,  7],\n        [ 8, 10, 10, 11, 12, 13, 14, 15],\n        [16, 17, 18, 19, 20, 21, 22, 23]])"
     },
     "execution_count": 16,
     "metadata": {},
     "output_type": "execute_result"
    }
   ],
   "source": [
    "Y[1,1] = 10\n",
    "Y"
   ],
   "metadata": {
    "collapsed": false,
    "pycharm": {
     "name": "#%%\n"
    }
   }
  },
  {
   "cell_type": "code",
   "execution_count": 17,
   "outputs": [
    {
     "data": {
      "text/plain": "tensor([[ 0,  1,  2,  3,  4,  5,  6,  7],\n        [ 8,  9, 10, 11, 12, 13, 14, 15],\n        [16, 17, 18, 19, 20, 21, 22, 23]])"
     },
     "execution_count": 17,
     "metadata": {},
     "output_type": "execute_result"
    }
   ],
   "source": [
    "X = torch.arange(24).reshape((3,8))\n",
    "X"
   ],
   "metadata": {
    "collapsed": false,
    "pycharm": {
     "name": "#%%\n"
    }
   }
  },
  {
   "cell_type": "code",
   "execution_count": 18,
   "outputs": [
    {
     "data": {
      "text/plain": "tensor([[ 0,  2,  4,  6,  8, 10, 12, 14],\n        [16, 19, 20, 22, 24, 26, 28, 30],\n        [32, 34, 36, 38, 40, 42, 44, 46]])"
     },
     "execution_count": 18,
     "metadata": {},
     "output_type": "execute_result"
    }
   ],
   "source": [
    "X += Y\n",
    "X"
   ],
   "metadata": {
    "collapsed": false,
    "pycharm": {
     "name": "#%%\n"
    }
   }
  },
  {
   "cell_type": "code",
   "execution_count": 19,
   "outputs": [],
   "source": [
    "X[:] = X + Y"
   ],
   "metadata": {
    "collapsed": false,
    "pycharm": {
     "name": "#%%\n"
    }
   }
  },
  {
   "cell_type": "code",
   "execution_count": 20,
   "outputs": [
    {
     "data": {
      "text/plain": "tensor([[ 0,  3,  6,  9, 12, 15, 18, 21],\n        [24, 29, 30, 33, 36, 39, 42, 45],\n        [48, 51, 54, 57, 60, 63, 66, 69]])"
     },
     "execution_count": 20,
     "metadata": {},
     "output_type": "execute_result"
    }
   ],
   "source": [
    "X"
   ],
   "metadata": {
    "collapsed": false,
    "pycharm": {
     "name": "#%%\n"
    }
   }
  },
  {
   "cell_type": "code",
   "execution_count": 22,
   "outputs": [
    {
     "name": "stdout",
     "output_type": "stream",
     "text": [
      "        id  AL  AK  AZ  AR  CA  CO  CT  FL  GA  ...  work_outside_home.4  \\\n",
      "0        0   0   0   0   0   0   0   0   1   0  ...            31.113209   \n",
      "1        1   0   0   0   0   0   1   0   0   0  ...            33.920257   \n",
      "2        2   0   0   0   0   0   0   0   0   0  ...            31.604604   \n",
      "3        3   0   0   0   0   0   0   0   0   0  ...            35.115738   \n",
      "4        4   0   0   0   0   0   0   0   0   0  ...            35.129714   \n",
      "...    ...  ..  ..  ..  ..  ..  ..  ..  ..  ..  ...                  ...   \n",
      "2694  2695   0   0   0   0   0   0   0   0   0  ...            39.209278   \n",
      "2695  2696   0   0   0   0   0   0   0   0   0  ...            28.984491   \n",
      "2696  2697   0   0   0   1   0   0   0   0   0  ...            34.346100   \n",
      "2697  2698   0   0   0   0   0   0   0   0   0  ...            30.451071   \n",
      "2698  2699   0   0   0   0   0   0   0   0   0  ...            33.803854   \n",
      "\n",
      "         shop.4  restaurant.4  spent_time.4  large_event.4  public_transit.4  \\\n",
      "0     67.394551     36.674291     40.743132      17.842221          4.093712   \n",
      "1     64.398380     34.612238     44.035688      17.808103          4.924935   \n",
      "2     62.101064     26.521875     36.746453      13.903667          7.313833   \n",
      "3     67.935520     38.022492     48.434809      27.134876          3.101904   \n",
      "4     69.934592     38.242368     49.095933      22.683709          4.594620   \n",
      "...         ...           ...           ...            ...               ...   \n",
      "2694  65.815096     37.046827     46.777637      21.952499          2.724187   \n",
      "2695  66.126427     31.299807     40.399527      16.783327         14.058799   \n",
      "2696  63.456270     30.829009     41.828908      20.597714          2.391852   \n",
      "2697  67.477177     33.975333     45.837535      18.437260          3.088666   \n",
      "2698  66.374538     38.493176     41.290529      19.225268          5.326241   \n",
      "\n",
      "      anxious.4  depressed.4  worried_finances.4  tested_positive.4  \n",
      "0     10.440071     8.627117           37.329512           7.456154  \n",
      "1     10.172662     9.954333           32.508881           8.010957  \n",
      "2     10.388712     7.956139           36.745588           2.906977  \n",
      "3     10.498683     8.231522           38.680162          12.575816  \n",
      "4      9.878927     9.469290           28.344123          21.428589  \n",
      "...         ...          ...                 ...                ...  \n",
      "2694  14.658436    11.099308           33.154910          13.437482  \n",
      "2695  13.129031    10.492896           36.670282           5.040143  \n",
      "2696  16.940896    12.888275           42.452451          13.618256  \n",
      "2697  12.621144    10.096939           29.668802           9.512585  \n",
      "2698  13.157865     9.618114           37.744195          11.069423  \n",
      "\n",
      "[2699 rows x 118 columns]\n"
     ]
    }
   ],
   "source": [
    "data = pd.read_csv(\"./lab1/data/covid.train.csv\")\n",
    "print(data)"
   ],
   "metadata": {
    "collapsed": false,
    "pycharm": {
     "name": "#%%\n"
    }
   }
  },
  {
   "cell_type": "code",
   "execution_count": 24,
   "outputs": [
    {
     "data": {
      "text/plain": "        id  AL  AK  AZ  AR  CA  CO  CT  FL  GA  ...  work_outside_home.4  \\\n0        0   0   0   0   0   0   0   0   1   0  ...            31.113209   \n1        1   0   0   0   0   0   1   0   0   0  ...            33.920257   \n2        2   0   0   0   0   0   0   0   0   0  ...            31.604604   \n3        3   0   0   0   0   0   0   0   0   0  ...            35.115738   \n4        4   0   0   0   0   0   0   0   0   0  ...            35.129714   \n...    ...  ..  ..  ..  ..  ..  ..  ..  ..  ..  ...                  ...   \n2694  2695   0   0   0   0   0   0   0   0   0  ...            39.209278   \n2695  2696   0   0   0   0   0   0   0   0   0  ...            28.984491   \n2696  2697   0   0   0   1   0   0   0   0   0  ...            34.346100   \n2697  2698   0   0   0   0   0   0   0   0   0  ...            30.451071   \n2698  2699   0   0   0   0   0   0   0   0   0  ...            33.803854   \n\n         shop.4  restaurant.4  spent_time.4  large_event.4  public_transit.4  \\\n0     67.394551     36.674291     40.743132      17.842221          4.093712   \n1     64.398380     34.612238     44.035688      17.808103          4.924935   \n2     62.101064     26.521875     36.746453      13.903667          7.313833   \n3     67.935520     38.022492     48.434809      27.134876          3.101904   \n4     69.934592     38.242368     49.095933      22.683709          4.594620   \n...         ...           ...           ...            ...               ...   \n2694  65.815096     37.046827     46.777637      21.952499          2.724187   \n2695  66.126427     31.299807     40.399527      16.783327         14.058799   \n2696  63.456270     30.829009     41.828908      20.597714          2.391852   \n2697  67.477177     33.975333     45.837535      18.437260          3.088666   \n2698  66.374538     38.493176     41.290529      19.225268          5.326241   \n\n      anxious.4  depressed.4  worried_finances.4  tested_positive.4  \n0     10.440071     8.627117           37.329512           7.456154  \n1     10.172662     9.954333           32.508881           8.010957  \n2     10.388712     7.956139           36.745588           2.906977  \n3     10.498683     8.231522           38.680162          12.575816  \n4      9.878927     9.469290           28.344123          21.428589  \n...         ...          ...                 ...                ...  \n2694  14.658436    11.099308           33.154910          13.437482  \n2695  13.129031    10.492896           36.670282           5.040143  \n2696  16.940896    12.888275           42.452451          13.618256  \n2697  12.621144    10.096939           29.668802           9.512585  \n2698  13.157865     9.618114           37.744195          11.069423  \n\n[2699 rows x 118 columns]",
      "text/html": "<div>\n<style scoped>\n    .dataframe tbody tr th:only-of-type {\n        vertical-align: middle;\n    }\n\n    .dataframe tbody tr th {\n        vertical-align: top;\n    }\n\n    .dataframe thead th {\n        text-align: right;\n    }\n</style>\n<table border=\"1\" class=\"dataframe\">\n  <thead>\n    <tr style=\"text-align: right;\">\n      <th></th>\n      <th>id</th>\n      <th>AL</th>\n      <th>AK</th>\n      <th>AZ</th>\n      <th>AR</th>\n      <th>CA</th>\n      <th>CO</th>\n      <th>CT</th>\n      <th>FL</th>\n      <th>GA</th>\n      <th>...</th>\n      <th>work_outside_home.4</th>\n      <th>shop.4</th>\n      <th>restaurant.4</th>\n      <th>spent_time.4</th>\n      <th>large_event.4</th>\n      <th>public_transit.4</th>\n      <th>anxious.4</th>\n      <th>depressed.4</th>\n      <th>worried_finances.4</th>\n      <th>tested_positive.4</th>\n    </tr>\n  </thead>\n  <tbody>\n    <tr>\n      <th>0</th>\n      <td>0</td>\n      <td>0</td>\n      <td>0</td>\n      <td>0</td>\n      <td>0</td>\n      <td>0</td>\n      <td>0</td>\n      <td>0</td>\n      <td>1</td>\n      <td>0</td>\n      <td>...</td>\n      <td>31.113209</td>\n      <td>67.394551</td>\n      <td>36.674291</td>\n      <td>40.743132</td>\n      <td>17.842221</td>\n      <td>4.093712</td>\n      <td>10.440071</td>\n      <td>8.627117</td>\n      <td>37.329512</td>\n      <td>7.456154</td>\n    </tr>\n    <tr>\n      <th>1</th>\n      <td>1</td>\n      <td>0</td>\n      <td>0</td>\n      <td>0</td>\n      <td>0</td>\n      <td>0</td>\n      <td>1</td>\n      <td>0</td>\n      <td>0</td>\n      <td>0</td>\n      <td>...</td>\n      <td>33.920257</td>\n      <td>64.398380</td>\n      <td>34.612238</td>\n      <td>44.035688</td>\n      <td>17.808103</td>\n      <td>4.924935</td>\n      <td>10.172662</td>\n      <td>9.954333</td>\n      <td>32.508881</td>\n      <td>8.010957</td>\n    </tr>\n    <tr>\n      <th>2</th>\n      <td>2</td>\n      <td>0</td>\n      <td>0</td>\n      <td>0</td>\n      <td>0</td>\n      <td>0</td>\n      <td>0</td>\n      <td>0</td>\n      <td>0</td>\n      <td>0</td>\n      <td>...</td>\n      <td>31.604604</td>\n      <td>62.101064</td>\n      <td>26.521875</td>\n      <td>36.746453</td>\n      <td>13.903667</td>\n      <td>7.313833</td>\n      <td>10.388712</td>\n      <td>7.956139</td>\n      <td>36.745588</td>\n      <td>2.906977</td>\n    </tr>\n    <tr>\n      <th>3</th>\n      <td>3</td>\n      <td>0</td>\n      <td>0</td>\n      <td>0</td>\n      <td>0</td>\n      <td>0</td>\n      <td>0</td>\n      <td>0</td>\n      <td>0</td>\n      <td>0</td>\n      <td>...</td>\n      <td>35.115738</td>\n      <td>67.935520</td>\n      <td>38.022492</td>\n      <td>48.434809</td>\n      <td>27.134876</td>\n      <td>3.101904</td>\n      <td>10.498683</td>\n      <td>8.231522</td>\n      <td>38.680162</td>\n      <td>12.575816</td>\n    </tr>\n    <tr>\n      <th>4</th>\n      <td>4</td>\n      <td>0</td>\n      <td>0</td>\n      <td>0</td>\n      <td>0</td>\n      <td>0</td>\n      <td>0</td>\n      <td>0</td>\n      <td>0</td>\n      <td>0</td>\n      <td>...</td>\n      <td>35.129714</td>\n      <td>69.934592</td>\n      <td>38.242368</td>\n      <td>49.095933</td>\n      <td>22.683709</td>\n      <td>4.594620</td>\n      <td>9.878927</td>\n      <td>9.469290</td>\n      <td>28.344123</td>\n      <td>21.428589</td>\n    </tr>\n    <tr>\n      <th>...</th>\n      <td>...</td>\n      <td>...</td>\n      <td>...</td>\n      <td>...</td>\n      <td>...</td>\n      <td>...</td>\n      <td>...</td>\n      <td>...</td>\n      <td>...</td>\n      <td>...</td>\n      <td>...</td>\n      <td>...</td>\n      <td>...</td>\n      <td>...</td>\n      <td>...</td>\n      <td>...</td>\n      <td>...</td>\n      <td>...</td>\n      <td>...</td>\n      <td>...</td>\n      <td>...</td>\n    </tr>\n    <tr>\n      <th>2694</th>\n      <td>2695</td>\n      <td>0</td>\n      <td>0</td>\n      <td>0</td>\n      <td>0</td>\n      <td>0</td>\n      <td>0</td>\n      <td>0</td>\n      <td>0</td>\n      <td>0</td>\n      <td>...</td>\n      <td>39.209278</td>\n      <td>65.815096</td>\n      <td>37.046827</td>\n      <td>46.777637</td>\n      <td>21.952499</td>\n      <td>2.724187</td>\n      <td>14.658436</td>\n      <td>11.099308</td>\n      <td>33.154910</td>\n      <td>13.437482</td>\n    </tr>\n    <tr>\n      <th>2695</th>\n      <td>2696</td>\n      <td>0</td>\n      <td>0</td>\n      <td>0</td>\n      <td>0</td>\n      <td>0</td>\n      <td>0</td>\n      <td>0</td>\n      <td>0</td>\n      <td>0</td>\n      <td>...</td>\n      <td>28.984491</td>\n      <td>66.126427</td>\n      <td>31.299807</td>\n      <td>40.399527</td>\n      <td>16.783327</td>\n      <td>14.058799</td>\n      <td>13.129031</td>\n      <td>10.492896</td>\n      <td>36.670282</td>\n      <td>5.040143</td>\n    </tr>\n    <tr>\n      <th>2696</th>\n      <td>2697</td>\n      <td>0</td>\n      <td>0</td>\n      <td>0</td>\n      <td>1</td>\n      <td>0</td>\n      <td>0</td>\n      <td>0</td>\n      <td>0</td>\n      <td>0</td>\n      <td>...</td>\n      <td>34.346100</td>\n      <td>63.456270</td>\n      <td>30.829009</td>\n      <td>41.828908</td>\n      <td>20.597714</td>\n      <td>2.391852</td>\n      <td>16.940896</td>\n      <td>12.888275</td>\n      <td>42.452451</td>\n      <td>13.618256</td>\n    </tr>\n    <tr>\n      <th>2697</th>\n      <td>2698</td>\n      <td>0</td>\n      <td>0</td>\n      <td>0</td>\n      <td>0</td>\n      <td>0</td>\n      <td>0</td>\n      <td>0</td>\n      <td>0</td>\n      <td>0</td>\n      <td>...</td>\n      <td>30.451071</td>\n      <td>67.477177</td>\n      <td>33.975333</td>\n      <td>45.837535</td>\n      <td>18.437260</td>\n      <td>3.088666</td>\n      <td>12.621144</td>\n      <td>10.096939</td>\n      <td>29.668802</td>\n      <td>9.512585</td>\n    </tr>\n    <tr>\n      <th>2698</th>\n      <td>2699</td>\n      <td>0</td>\n      <td>0</td>\n      <td>0</td>\n      <td>0</td>\n      <td>0</td>\n      <td>0</td>\n      <td>0</td>\n      <td>0</td>\n      <td>0</td>\n      <td>...</td>\n      <td>33.803854</td>\n      <td>66.374538</td>\n      <td>38.493176</td>\n      <td>41.290529</td>\n      <td>19.225268</td>\n      <td>5.326241</td>\n      <td>13.157865</td>\n      <td>9.618114</td>\n      <td>37.744195</td>\n      <td>11.069423</td>\n    </tr>\n  </tbody>\n</table>\n<p>2699 rows × 118 columns</p>\n</div>"
     },
     "execution_count": 24,
     "metadata": {},
     "output_type": "execute_result"
    }
   ],
   "source": [
    "data"
   ],
   "metadata": {
    "collapsed": false,
    "pycharm": {
     "name": "#%%\n"
    }
   }
  },
  {
   "cell_type": "code",
   "execution_count": 25,
   "outputs": [
    {
     "data": {
      "text/plain": "0       0\n1       0\n2       0\n3       0\n4       0\n       ..\n2694    0\n2695    0\n2696    0\n2697    0\n2698    0\nName: AL, Length: 2699, dtype: int64"
     },
     "execution_count": 25,
     "metadata": {},
     "output_type": "execute_result"
    }
   ],
   "source": [
    "data.iloc[:,1]"
   ],
   "metadata": {
    "collapsed": false,
    "pycharm": {
     "name": "#%%\n"
    }
   }
  },
  {
   "cell_type": "code",
   "execution_count": 26,
   "outputs": [
    {
     "data": {
      "text/plain": "        id  AL\n0        0   0\n1        1   0\n2        2   0\n3        3   0\n4        4   0\n...    ...  ..\n2694  2695   0\n2695  2696   0\n2696  2697   0\n2697  2698   0\n2698  2699   0\n\n[2699 rows x 2 columns]",
      "text/html": "<div>\n<style scoped>\n    .dataframe tbody tr th:only-of-type {\n        vertical-align: middle;\n    }\n\n    .dataframe tbody tr th {\n        vertical-align: top;\n    }\n\n    .dataframe thead th {\n        text-align: right;\n    }\n</style>\n<table border=\"1\" class=\"dataframe\">\n  <thead>\n    <tr style=\"text-align: right;\">\n      <th></th>\n      <th>id</th>\n      <th>AL</th>\n    </tr>\n  </thead>\n  <tbody>\n    <tr>\n      <th>0</th>\n      <td>0</td>\n      <td>0</td>\n    </tr>\n    <tr>\n      <th>1</th>\n      <td>1</td>\n      <td>0</td>\n    </tr>\n    <tr>\n      <th>2</th>\n      <td>2</td>\n      <td>0</td>\n    </tr>\n    <tr>\n      <th>3</th>\n      <td>3</td>\n      <td>0</td>\n    </tr>\n    <tr>\n      <th>4</th>\n      <td>4</td>\n      <td>0</td>\n    </tr>\n    <tr>\n      <th>...</th>\n      <td>...</td>\n      <td>...</td>\n    </tr>\n    <tr>\n      <th>2694</th>\n      <td>2695</td>\n      <td>0</td>\n    </tr>\n    <tr>\n      <th>2695</th>\n      <td>2696</td>\n      <td>0</td>\n    </tr>\n    <tr>\n      <th>2696</th>\n      <td>2697</td>\n      <td>0</td>\n    </tr>\n    <tr>\n      <th>2697</th>\n      <td>2698</td>\n      <td>0</td>\n    </tr>\n    <tr>\n      <th>2698</th>\n      <td>2699</td>\n      <td>0</td>\n    </tr>\n  </tbody>\n</table>\n<p>2699 rows × 2 columns</p>\n</div>"
     },
     "execution_count": 26,
     "metadata": {},
     "output_type": "execute_result"
    }
   ],
   "source": [
    "data.iloc[:,0:2]"
   ],
   "metadata": {
    "collapsed": false,
    "pycharm": {
     "name": "#%%\n"
    }
   }
  },
  {
   "cell_type": "code",
   "execution_count": 27,
   "outputs": [
    {
     "data": {
      "text/plain": "1    0\nName: AK, dtype: int64"
     },
     "execution_count": 27,
     "metadata": {},
     "output_type": "execute_result"
    }
   ],
   "source": [
    "data.iloc[1:2,2]"
   ],
   "metadata": {
    "collapsed": false,
    "pycharm": {
     "name": "#%%\n"
    }
   }
  },
  {
   "cell_type": "code",
   "execution_count": 29,
   "outputs": [],
   "source": [
    "input = data.iloc[:,2:3]"
   ],
   "metadata": {
    "collapsed": false,
    "pycharm": {
     "name": "#%%\n"
    }
   }
  },
  {
   "cell_type": "code",
   "execution_count": 31,
   "outputs": [
    {
     "data": {
      "text/plain": "numpy.ndarray"
     },
     "execution_count": 31,
     "metadata": {},
     "output_type": "execute_result"
    }
   ],
   "source": [
    "type(input.values)"
   ],
   "metadata": {
    "collapsed": false,
    "pycharm": {
     "name": "#%%\n"
    }
   }
  },
  {
   "cell_type": "code",
   "execution_count": 37,
   "outputs": [
    {
     "data": {
      "text/plain": "tensor(380., dtype=torch.float64, grad_fn=<SumBackward0>)"
     },
     "execution_count": 37,
     "metadata": {},
     "output_type": "execute_result"
    }
   ],
   "source": [
    "x = torch.arange(20,dtype=float).reshape((4,5))\n",
    "x.requires_grad_(True)\n",
    "y = (x * 2).sum()\n",
    "y"
   ],
   "metadata": {
    "collapsed": false,
    "pycharm": {
     "name": "#%%\n"
    }
   }
  },
  {
   "cell_type": "code",
   "execution_count": 38,
   "outputs": [],
   "source": [
    "y.backward()"
   ],
   "metadata": {
    "collapsed": false,
    "pycharm": {
     "name": "#%%\n"
    }
   }
  },
  {
   "cell_type": "code",
   "execution_count": 39,
   "outputs": [
    {
     "data": {
      "text/plain": "tensor([[2., 2., 2., 2., 2.],\n        [2., 2., 2., 2., 2.],\n        [2., 2., 2., 2., 2.],\n        [2., 2., 2., 2., 2.]], dtype=torch.float64)"
     },
     "execution_count": 39,
     "metadata": {},
     "output_type": "execute_result"
    }
   ],
   "source": [
    "x.grad"
   ],
   "metadata": {
    "collapsed": false,
    "pycharm": {
     "name": "#%%\n"
    }
   }
  }
 ],
 "metadata": {
  "kernelspec": {
   "display_name": "Python 3",
   "language": "python",
   "name": "python3"
  },
  "language_info": {
   "codemirror_mode": {
    "name": "ipython",
    "version": 2
   },
   "file_extension": ".py",
   "mimetype": "text/x-python",
   "name": "python",
   "nbconvert_exporter": "python",
   "pygments_lexer": "ipython2",
   "version": "2.7.6"
  }
 },
 "nbformat": 4,
 "nbformat_minor": 0
}