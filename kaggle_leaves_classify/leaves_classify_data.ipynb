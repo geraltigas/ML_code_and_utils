{
 "cells": [
  {
   "cell_type": "code",
   "execution_count": 1,
   "metadata": {
    "collapsed": true,
    "pycharm": {
     "name": "#%%\n"
    }
   },
   "outputs": [],
   "source": [
    "import torch\n",
    "import pandas as pd"
   ]
  },
  {
   "cell_type": "code",
   "execution_count": 26,
   "outputs": [
    {
     "data": {
      "text/plain": "                  image                    label\n0          images/0.jpg         maclura_pomifera\n1          images/1.jpg         maclura_pomifera\n2          images/2.jpg         maclura_pomifera\n3          images/3.jpg         maclura_pomifera\n4          images/4.jpg         maclura_pomifera\n...                 ...                      ...\n18348  images/18348.jpg          aesculus_glabra\n18349  images/18349.jpg  liquidambar_styraciflua\n18350  images/18350.jpg            cedrus_libani\n18351  images/18351.jpg      prunus_pensylvanica\n18352  images/18352.jpg          quercus_montana\n\n[18353 rows x 2 columns]",
      "text/html": "<div>\n<style scoped>\n    .dataframe tbody tr th:only-of-type {\n        vertical-align: middle;\n    }\n\n    .dataframe tbody tr th {\n        vertical-align: top;\n    }\n\n    .dataframe thead th {\n        text-align: right;\n    }\n</style>\n<table border=\"1\" class=\"dataframe\">\n  <thead>\n    <tr style=\"text-align: right;\">\n      <th></th>\n      <th>image</th>\n      <th>label</th>\n    </tr>\n  </thead>\n  <tbody>\n    <tr>\n      <th>0</th>\n      <td>images/0.jpg</td>\n      <td>maclura_pomifera</td>\n    </tr>\n    <tr>\n      <th>1</th>\n      <td>images/1.jpg</td>\n      <td>maclura_pomifera</td>\n    </tr>\n    <tr>\n      <th>2</th>\n      <td>images/2.jpg</td>\n      <td>maclura_pomifera</td>\n    </tr>\n    <tr>\n      <th>3</th>\n      <td>images/3.jpg</td>\n      <td>maclura_pomifera</td>\n    </tr>\n    <tr>\n      <th>4</th>\n      <td>images/4.jpg</td>\n      <td>maclura_pomifera</td>\n    </tr>\n    <tr>\n      <th>...</th>\n      <td>...</td>\n      <td>...</td>\n    </tr>\n    <tr>\n      <th>18348</th>\n      <td>images/18348.jpg</td>\n      <td>aesculus_glabra</td>\n    </tr>\n    <tr>\n      <th>18349</th>\n      <td>images/18349.jpg</td>\n      <td>liquidambar_styraciflua</td>\n    </tr>\n    <tr>\n      <th>18350</th>\n      <td>images/18350.jpg</td>\n      <td>cedrus_libani</td>\n    </tr>\n    <tr>\n      <th>18351</th>\n      <td>images/18351.jpg</td>\n      <td>prunus_pensylvanica</td>\n    </tr>\n    <tr>\n      <th>18352</th>\n      <td>images/18352.jpg</td>\n      <td>quercus_montana</td>\n    </tr>\n  </tbody>\n</table>\n<p>18353 rows × 2 columns</p>\n</div>"
     },
     "execution_count": 26,
     "metadata": {},
     "output_type": "execute_result"
    }
   ],
   "source": [
    "train = pd.read_csv(\"./data/train.csv\")\n",
    "train"
   ],
   "metadata": {
    "collapsed": false,
    "pycharm": {
     "name": "#%%\n"
    }
   }
  },
  {
   "cell_type": "code",
   "execution_count": 14,
   "outputs": [
    {
     "data": {
      "text/plain": "0               maclura_pomifera\n6                    ulmus_rubra\n7       broussonettia_papyrifera\n11             prunus_virginiana\n31                   acer_rubrum\n                  ...           \n4781                acer_griseum\n4930         ailanthus_altissima\n5367            pinus_thunbergii\n5372        crataegus_crus-galli\n6892        juniperus_virginiana\nName: label, Length: 176, dtype: object"
     },
     "execution_count": 14,
     "metadata": {},
     "output_type": "execute_result"
    }
   ],
   "source": [
    "all_type = train[\"label\"].drop_duplicates()\n",
    "all_type"
   ],
   "metadata": {
    "collapsed": false,
    "pycharm": {
     "name": "#%%\n"
    }
   }
  },
  {
   "cell_type": "code",
   "execution_count": 15,
   "outputs": [
    {
     "data": {
      "text/plain": "['maclura_pomifera',\n 'ulmus_rubra',\n 'broussonettia_papyrifera',\n 'prunus_virginiana',\n 'acer_rubrum',\n 'cryptomeria_japonica',\n 'staphylea_trifolia',\n 'asimina_triloba',\n 'diospyros_virginiana',\n 'tilia_cordata',\n 'ulmus_pumila',\n 'quercus_muehlenbergii',\n 'juglans_cinerea',\n 'cercis_canadensis',\n 'ptelea_trifoliata',\n 'acer_palmatum',\n 'catalpa_speciosa',\n 'abies_concolor',\n 'eucommia_ulmoides',\n 'quercus_montana',\n 'koelreuteria_paniculata',\n 'liriodendron_tulipifera',\n 'styrax_japonica',\n 'malus_pumila',\n 'prunus_sargentii',\n 'cornus_mas',\n 'magnolia_virginiana',\n 'ostrya_virginiana',\n 'magnolia_acuminata',\n 'ilex_opaca',\n 'acer_negundo',\n 'fraxinus_nigra',\n 'pyrus_calleryana',\n 'picea_abies',\n 'chionanthus_virginicus',\n 'carpinus_caroliniana',\n 'zelkova_serrata',\n 'aesculus_pavi',\n 'taxodium_distichum',\n 'carya_tomentosa',\n 'picea_pungens',\n 'carya_glabra',\n 'quercus_macrocarpa',\n 'carya_cordiformis',\n 'catalpa_bignonioides',\n 'tsuga_canadensis',\n 'populus_tremuloides',\n 'magnolia_denudata',\n 'crataegus_viridis',\n 'populus_deltoides',\n 'ulmus_americana',\n 'pinus_bungeana',\n 'cornus_florida',\n 'pinus_densiflora',\n 'morus_alba',\n 'quercus_velutina',\n 'pinus_parviflora',\n 'salix_caroliniana',\n 'platanus_occidentalis',\n 'acer_saccharum',\n 'pinus_flexilis',\n 'gleditsia_triacanthos',\n 'quercus_alba',\n 'prunus_subhirtella',\n 'pseudolarix_amabilis',\n 'stewartia_pseudocamellia',\n 'quercus_stellata',\n 'pinus_rigida',\n 'salix_nigra',\n 'quercus_acutissima',\n 'pinus_virginiana',\n 'chamaecyparis_pisifera',\n 'quercus_michauxii',\n 'prunus_pensylvanica',\n 'amelanchier_canadensis',\n 'liquidambar_styraciflua',\n 'pinus_cembra',\n 'malus_hupehensis',\n 'castanea_dentata',\n 'magnolia_stellata',\n 'chionanthus_retusus',\n 'carya_ovata',\n 'quercus_marilandica',\n 'tilia_americana',\n 'cedrus_atlantica',\n 'ulmus_parvifolia',\n 'nyssa_sylvatica',\n 'quercus_virginiana',\n 'acer_saccharinum',\n 'magnolia_macrophylla',\n 'crataegus_pruinosa',\n 'pinus_nigra',\n 'abies_nordmanniana',\n 'pinus_taeda',\n 'ficus_carica',\n 'pinus_peucea',\n 'populus_grandidentata',\n 'acer_platanoides',\n 'pinus_resinosa',\n 'salix_matsudana',\n 'pinus_sylvestris',\n 'albizia_julibrissin',\n 'salix_babylonica',\n 'pinus_echinata',\n 'magnolia_tripetala',\n 'larix_decidua',\n 'pinus_strobus',\n 'aesculus_glabra',\n 'ginkgo_biloba',\n 'quercus_cerris',\n 'metasequoia_glyptostroboides',\n 'fagus_grandifolia',\n 'quercus_nigra',\n 'juglans_nigra',\n 'pinus_koraiensis',\n 'oxydendrum_arboreum',\n 'morus_rubra',\n 'crataegus_phaenopyrum',\n 'pinus_wallichiana',\n 'tilia_europaea',\n 'betula_jacqemontii',\n 'chamaecyparis_thyoides',\n 'acer_ginnala',\n 'acer_campestre',\n 'pinus_pungens',\n 'malus_floribunda',\n 'picea_orientalis',\n 'amelanchier_laevis',\n 'celtis_tenuifolia',\n 'gymnocladus_dioicus',\n 'quercus_bicolor',\n 'malus_coronaria',\n 'cercidiphyllum_japonicum',\n 'cedrus_libani',\n 'betula_nigra',\n 'acer_pensylvanicum',\n 'platanus_acerifolia',\n 'robinia_pseudo-acacia',\n 'ulmus_glabra',\n 'crataegus_laevigata',\n 'quercus_coccinea',\n 'prunus_serotina',\n 'tilia_tomentosa',\n 'quercus_imbricaria',\n 'cladrastis_lutea',\n 'fraxinus_pennsylvanica',\n 'phellodendron_amurense',\n 'betula_lenta',\n 'quercus_robur',\n 'aesculus_flava',\n 'paulownia_tomentosa',\n 'amelanchier_arborea',\n 'quercus_shumardii',\n 'magnolia_grandiflora',\n 'cornus_kousa',\n 'betula_alleghaniensis',\n 'carpinus_betulus',\n 'aesculus_hippocastamon',\n 'malus_baccata',\n 'acer_pseudoplatanus',\n 'betula_populifolia',\n 'prunus_yedoensis',\n 'halesia_tetraptera',\n 'quercus_palustris',\n 'evodia_daniellii',\n 'ulmus_procera',\n 'prunus_serrulata',\n 'quercus_phellos',\n 'cedrus_deodara',\n 'celtis_occidentalis',\n 'sassafras_albidum',\n 'acer_griseum',\n 'ailanthus_altissima',\n 'pinus_thunbergii',\n 'crataegus_crus-galli',\n 'juniperus_virginiana']"
     },
     "execution_count": 15,
     "metadata": {},
     "output_type": "execute_result"
    }
   ],
   "source": [
    "all_type_list = all_type.tolist()\n",
    "all_type_list"
   ],
   "metadata": {
    "collapsed": false,
    "pycharm": {
     "name": "#%%\n"
    }
   }
  },
  {
   "cell_type": "code",
   "execution_count": 20,
   "outputs": [
    {
     "name": "stdout",
     "output_type": "stream",
     "text": [
      "{0: 'maclura_pomifera', 1: 'ulmus_rubra', 2: 'broussonettia_papyrifera', 3: 'prunus_virginiana', 4: 'acer_rubrum', 5: 'cryptomeria_japonica', 6: 'staphylea_trifolia', 7: 'asimina_triloba', 8: 'diospyros_virginiana', 9: 'tilia_cordata', 10: 'ulmus_pumila', 11: 'quercus_muehlenbergii', 12: 'juglans_cinerea', 13: 'cercis_canadensis', 14: 'ptelea_trifoliata', 15: 'acer_palmatum', 16: 'catalpa_speciosa', 17: 'abies_concolor', 18: 'eucommia_ulmoides', 19: 'quercus_montana', 20: 'koelreuteria_paniculata', 21: 'liriodendron_tulipifera', 22: 'styrax_japonica', 23: 'malus_pumila', 24: 'prunus_sargentii', 25: 'cornus_mas', 26: 'magnolia_virginiana', 27: 'ostrya_virginiana', 28: 'magnolia_acuminata', 29: 'ilex_opaca', 30: 'acer_negundo', 31: 'fraxinus_nigra', 32: 'pyrus_calleryana', 33: 'picea_abies', 34: 'chionanthus_virginicus', 35: 'carpinus_caroliniana', 36: 'zelkova_serrata', 37: 'aesculus_pavi', 38: 'taxodium_distichum', 39: 'carya_tomentosa', 40: 'picea_pungens', 41: 'carya_glabra', 42: 'quercus_macrocarpa', 43: 'carya_cordiformis', 44: 'catalpa_bignonioides', 45: 'tsuga_canadensis', 46: 'populus_tremuloides', 47: 'magnolia_denudata', 48: 'crataegus_viridis', 49: 'populus_deltoides', 50: 'ulmus_americana', 51: 'pinus_bungeana', 52: 'cornus_florida', 53: 'pinus_densiflora', 54: 'morus_alba', 55: 'quercus_velutina', 56: 'pinus_parviflora', 57: 'salix_caroliniana', 58: 'platanus_occidentalis', 59: 'acer_saccharum', 60: 'pinus_flexilis', 61: 'gleditsia_triacanthos', 62: 'quercus_alba', 63: 'prunus_subhirtella', 64: 'pseudolarix_amabilis', 65: 'stewartia_pseudocamellia', 66: 'quercus_stellata', 67: 'pinus_rigida', 68: 'salix_nigra', 69: 'quercus_acutissima', 70: 'pinus_virginiana', 71: 'chamaecyparis_pisifera', 72: 'quercus_michauxii', 73: 'prunus_pensylvanica', 74: 'amelanchier_canadensis', 75: 'liquidambar_styraciflua', 76: 'pinus_cembra', 77: 'malus_hupehensis', 78: 'castanea_dentata', 79: 'magnolia_stellata', 80: 'chionanthus_retusus', 81: 'carya_ovata', 82: 'quercus_marilandica', 83: 'tilia_americana', 84: 'cedrus_atlantica', 85: 'ulmus_parvifolia', 86: 'nyssa_sylvatica', 87: 'quercus_virginiana', 88: 'acer_saccharinum', 89: 'magnolia_macrophylla', 90: 'crataegus_pruinosa', 91: 'pinus_nigra', 92: 'abies_nordmanniana', 93: 'pinus_taeda', 94: 'ficus_carica', 95: 'pinus_peucea', 96: 'populus_grandidentata', 97: 'acer_platanoides', 98: 'pinus_resinosa', 99: 'salix_matsudana', 100: 'pinus_sylvestris', 101: 'albizia_julibrissin', 102: 'salix_babylonica', 103: 'pinus_echinata', 104: 'magnolia_tripetala', 105: 'larix_decidua', 106: 'pinus_strobus', 107: 'aesculus_glabra', 108: 'ginkgo_biloba', 109: 'quercus_cerris', 110: 'metasequoia_glyptostroboides', 111: 'fagus_grandifolia', 112: 'quercus_nigra', 113: 'juglans_nigra', 114: 'pinus_koraiensis', 115: 'oxydendrum_arboreum', 116: 'morus_rubra', 117: 'crataegus_phaenopyrum', 118: 'pinus_wallichiana', 119: 'tilia_europaea', 120: 'betula_jacqemontii', 121: 'chamaecyparis_thyoides', 122: 'acer_ginnala', 123: 'acer_campestre', 124: 'pinus_pungens', 125: 'malus_floribunda', 126: 'picea_orientalis', 127: 'amelanchier_laevis', 128: 'celtis_tenuifolia', 129: 'gymnocladus_dioicus', 130: 'quercus_bicolor', 131: 'malus_coronaria', 132: 'cercidiphyllum_japonicum', 133: 'cedrus_libani', 134: 'betula_nigra', 135: 'acer_pensylvanicum', 136: 'platanus_acerifolia', 137: 'robinia_pseudo-acacia', 138: 'ulmus_glabra', 139: 'crataegus_laevigata', 140: 'quercus_coccinea', 141: 'prunus_serotina', 142: 'tilia_tomentosa', 143: 'quercus_imbricaria', 144: 'cladrastis_lutea', 145: 'fraxinus_pennsylvanica', 146: 'phellodendron_amurense', 147: 'betula_lenta', 148: 'quercus_robur', 149: 'aesculus_flava', 150: 'paulownia_tomentosa', 151: 'amelanchier_arborea', 152: 'quercus_shumardii', 153: 'magnolia_grandiflora', 154: 'cornus_kousa', 155: 'betula_alleghaniensis', 156: 'carpinus_betulus', 157: 'aesculus_hippocastamon', 158: 'malus_baccata', 159: 'acer_pseudoplatanus', 160: 'betula_populifolia', 161: 'prunus_yedoensis', 162: 'halesia_tetraptera', 163: 'quercus_palustris', 164: 'evodia_daniellii', 165: 'ulmus_procera', 166: 'prunus_serrulata', 167: 'quercus_phellos', 168: 'cedrus_deodara', 169: 'celtis_occidentalis', 170: 'sassafras_albidum', 171: 'acer_griseum', 172: 'ailanthus_altissima', 173: 'pinus_thunbergii', 174: 'crataegus_crus-galli', 175: 'juniperus_virginiana'}\n",
      "{'maclura_pomifera': 0, 'ulmus_rubra': 1, 'broussonettia_papyrifera': 2, 'prunus_virginiana': 3, 'acer_rubrum': 4, 'cryptomeria_japonica': 5, 'staphylea_trifolia': 6, 'asimina_triloba': 7, 'diospyros_virginiana': 8, 'tilia_cordata': 9, 'ulmus_pumila': 10, 'quercus_muehlenbergii': 11, 'juglans_cinerea': 12, 'cercis_canadensis': 13, 'ptelea_trifoliata': 14, 'acer_palmatum': 15, 'catalpa_speciosa': 16, 'abies_concolor': 17, 'eucommia_ulmoides': 18, 'quercus_montana': 19, 'koelreuteria_paniculata': 20, 'liriodendron_tulipifera': 21, 'styrax_japonica': 22, 'malus_pumila': 23, 'prunus_sargentii': 24, 'cornus_mas': 25, 'magnolia_virginiana': 26, 'ostrya_virginiana': 27, 'magnolia_acuminata': 28, 'ilex_opaca': 29, 'acer_negundo': 30, 'fraxinus_nigra': 31, 'pyrus_calleryana': 32, 'picea_abies': 33, 'chionanthus_virginicus': 34, 'carpinus_caroliniana': 35, 'zelkova_serrata': 36, 'aesculus_pavi': 37, 'taxodium_distichum': 38, 'carya_tomentosa': 39, 'picea_pungens': 40, 'carya_glabra': 41, 'quercus_macrocarpa': 42, 'carya_cordiformis': 43, 'catalpa_bignonioides': 44, 'tsuga_canadensis': 45, 'populus_tremuloides': 46, 'magnolia_denudata': 47, 'crataegus_viridis': 48, 'populus_deltoides': 49, 'ulmus_americana': 50, 'pinus_bungeana': 51, 'cornus_florida': 52, 'pinus_densiflora': 53, 'morus_alba': 54, 'quercus_velutina': 55, 'pinus_parviflora': 56, 'salix_caroliniana': 57, 'platanus_occidentalis': 58, 'acer_saccharum': 59, 'pinus_flexilis': 60, 'gleditsia_triacanthos': 61, 'quercus_alba': 62, 'prunus_subhirtella': 63, 'pseudolarix_amabilis': 64, 'stewartia_pseudocamellia': 65, 'quercus_stellata': 66, 'pinus_rigida': 67, 'salix_nigra': 68, 'quercus_acutissima': 69, 'pinus_virginiana': 70, 'chamaecyparis_pisifera': 71, 'quercus_michauxii': 72, 'prunus_pensylvanica': 73, 'amelanchier_canadensis': 74, 'liquidambar_styraciflua': 75, 'pinus_cembra': 76, 'malus_hupehensis': 77, 'castanea_dentata': 78, 'magnolia_stellata': 79, 'chionanthus_retusus': 80, 'carya_ovata': 81, 'quercus_marilandica': 82, 'tilia_americana': 83, 'cedrus_atlantica': 84, 'ulmus_parvifolia': 85, 'nyssa_sylvatica': 86, 'quercus_virginiana': 87, 'acer_saccharinum': 88, 'magnolia_macrophylla': 89, 'crataegus_pruinosa': 90, 'pinus_nigra': 91, 'abies_nordmanniana': 92, 'pinus_taeda': 93, 'ficus_carica': 94, 'pinus_peucea': 95, 'populus_grandidentata': 96, 'acer_platanoides': 97, 'pinus_resinosa': 98, 'salix_matsudana': 99, 'pinus_sylvestris': 100, 'albizia_julibrissin': 101, 'salix_babylonica': 102, 'pinus_echinata': 103, 'magnolia_tripetala': 104, 'larix_decidua': 105, 'pinus_strobus': 106, 'aesculus_glabra': 107, 'ginkgo_biloba': 108, 'quercus_cerris': 109, 'metasequoia_glyptostroboides': 110, 'fagus_grandifolia': 111, 'quercus_nigra': 112, 'juglans_nigra': 113, 'pinus_koraiensis': 114, 'oxydendrum_arboreum': 115, 'morus_rubra': 116, 'crataegus_phaenopyrum': 117, 'pinus_wallichiana': 118, 'tilia_europaea': 119, 'betula_jacqemontii': 120, 'chamaecyparis_thyoides': 121, 'acer_ginnala': 122, 'acer_campestre': 123, 'pinus_pungens': 124, 'malus_floribunda': 125, 'picea_orientalis': 126, 'amelanchier_laevis': 127, 'celtis_tenuifolia': 128, 'gymnocladus_dioicus': 129, 'quercus_bicolor': 130, 'malus_coronaria': 131, 'cercidiphyllum_japonicum': 132, 'cedrus_libani': 133, 'betula_nigra': 134, 'acer_pensylvanicum': 135, 'platanus_acerifolia': 136, 'robinia_pseudo-acacia': 137, 'ulmus_glabra': 138, 'crataegus_laevigata': 139, 'quercus_coccinea': 140, 'prunus_serotina': 141, 'tilia_tomentosa': 142, 'quercus_imbricaria': 143, 'cladrastis_lutea': 144, 'fraxinus_pennsylvanica': 145, 'phellodendron_amurense': 146, 'betula_lenta': 147, 'quercus_robur': 148, 'aesculus_flava': 149, 'paulownia_tomentosa': 150, 'amelanchier_arborea': 151, 'quercus_shumardii': 152, 'magnolia_grandiflora': 153, 'cornus_kousa': 154, 'betula_alleghaniensis': 155, 'carpinus_betulus': 156, 'aesculus_hippocastamon': 157, 'malus_baccata': 158, 'acer_pseudoplatanus': 159, 'betula_populifolia': 160, 'prunus_yedoensis': 161, 'halesia_tetraptera': 162, 'quercus_palustris': 163, 'evodia_daniellii': 164, 'ulmus_procera': 165, 'prunus_serrulata': 166, 'quercus_phellos': 167, 'cedrus_deodara': 168, 'celtis_occidentalis': 169, 'sassafras_albidum': 170, 'acer_griseum': 171, 'ailanthus_altissima': 172, 'pinus_thunbergii': 173, 'crataegus_crus-galli': 174, 'juniperus_virginiana': 175}\n"
     ]
    }
   ],
   "source": [
    "type_dict_i2v = dict()\n",
    "for i,v in enumerate(all_type_list):\n",
    "    type_dict_i2v[i] = v\n",
    "type_dict_v2i = {v:i for i, v in type_dict_i2v.items()}\n",
    "print(type_dict_i2v)\n",
    "print(type_dict_v2i)"
   ],
   "metadata": {
    "collapsed": false,
    "pycharm": {
     "name": "#%%\n"
    }
   }
  },
  {
   "cell_type": "code",
   "execution_count": 30,
   "outputs": [
    {
     "ename": "KeyError",
     "evalue": "0",
     "output_type": "error",
     "traceback": [
      "\u001B[0;31m---------------------------------------------------------------------------\u001B[0m",
      "\u001B[0;31mKeyError\u001B[0m                                  Traceback (most recent call last)",
      "Input \u001B[0;32mIn [30]\u001B[0m, in \u001B[0;36m<cell line: 5>\u001B[0;34m()\u001B[0m\n\u001B[1;32m      3\u001B[0m     \u001B[38;5;28;01mreturn\u001B[39;00m l\n\u001B[1;32m      4\u001B[0m \u001B[38;5;66;03m#train.loc[:,\"label\"] = \\\u001B[39;00m\n\u001B[0;32m----> 5\u001B[0m train_v2i \u001B[38;5;241m=\u001B[39m \u001B[43mtrain\u001B[49m\u001B[38;5;241;43m.\u001B[39;49m\u001B[43mapply\u001B[49m\u001B[43m(\u001B[49m\u001B[43mlabel_to_index\u001B[49m\u001B[43m,\u001B[49m\u001B[43maxis\u001B[49m\u001B[38;5;241;43m=\u001B[39;49m\u001B[38;5;241;43m1\u001B[39;49m\u001B[43m)\u001B[49m\n\u001B[1;32m      6\u001B[0m train_v2i\n",
      "File \u001B[0;32m~/.conda/envs/ML/lib/python3.10/site-packages/pandas/core/frame.py:8845\u001B[0m, in \u001B[0;36mDataFrame.apply\u001B[0;34m(self, func, axis, raw, result_type, args, **kwargs)\u001B[0m\n\u001B[1;32m   8834\u001B[0m \u001B[38;5;28;01mfrom\u001B[39;00m \u001B[38;5;21;01mpandas\u001B[39;00m\u001B[38;5;21;01m.\u001B[39;00m\u001B[38;5;21;01mcore\u001B[39;00m\u001B[38;5;21;01m.\u001B[39;00m\u001B[38;5;21;01mapply\u001B[39;00m \u001B[38;5;28;01mimport\u001B[39;00m frame_apply\n\u001B[1;32m   8836\u001B[0m op \u001B[38;5;241m=\u001B[39m frame_apply(\n\u001B[1;32m   8837\u001B[0m     \u001B[38;5;28mself\u001B[39m,\n\u001B[1;32m   8838\u001B[0m     func\u001B[38;5;241m=\u001B[39mfunc,\n\u001B[0;32m   (...)\u001B[0m\n\u001B[1;32m   8843\u001B[0m     kwargs\u001B[38;5;241m=\u001B[39mkwargs,\n\u001B[1;32m   8844\u001B[0m )\n\u001B[0;32m-> 8845\u001B[0m \u001B[38;5;28;01mreturn\u001B[39;00m \u001B[43mop\u001B[49m\u001B[38;5;241;43m.\u001B[39;49m\u001B[43mapply\u001B[49m\u001B[43m(\u001B[49m\u001B[43m)\u001B[49m\u001B[38;5;241m.\u001B[39m__finalize__(\u001B[38;5;28mself\u001B[39m, method\u001B[38;5;241m=\u001B[39m\u001B[38;5;124m\"\u001B[39m\u001B[38;5;124mapply\u001B[39m\u001B[38;5;124m\"\u001B[39m)\n",
      "File \u001B[0;32m~/.conda/envs/ML/lib/python3.10/site-packages/pandas/core/apply.py:733\u001B[0m, in \u001B[0;36mFrameApply.apply\u001B[0;34m(self)\u001B[0m\n\u001B[1;32m    730\u001B[0m \u001B[38;5;28;01melif\u001B[39;00m \u001B[38;5;28mself\u001B[39m\u001B[38;5;241m.\u001B[39mraw:\n\u001B[1;32m    731\u001B[0m     \u001B[38;5;28;01mreturn\u001B[39;00m \u001B[38;5;28mself\u001B[39m\u001B[38;5;241m.\u001B[39mapply_raw()\n\u001B[0;32m--> 733\u001B[0m \u001B[38;5;28;01mreturn\u001B[39;00m \u001B[38;5;28;43mself\u001B[39;49m\u001B[38;5;241;43m.\u001B[39;49m\u001B[43mapply_standard\u001B[49m\u001B[43m(\u001B[49m\u001B[43m)\u001B[49m\n",
      "File \u001B[0;32m~/.conda/envs/ML/lib/python3.10/site-packages/pandas/core/apply.py:857\u001B[0m, in \u001B[0;36mFrameApply.apply_standard\u001B[0;34m(self)\u001B[0m\n\u001B[1;32m    856\u001B[0m \u001B[38;5;28;01mdef\u001B[39;00m \u001B[38;5;21mapply_standard\u001B[39m(\u001B[38;5;28mself\u001B[39m):\n\u001B[0;32m--> 857\u001B[0m     results, res_index \u001B[38;5;241m=\u001B[39m \u001B[38;5;28;43mself\u001B[39;49m\u001B[38;5;241;43m.\u001B[39;49m\u001B[43mapply_series_generator\u001B[49m\u001B[43m(\u001B[49m\u001B[43m)\u001B[49m\n\u001B[1;32m    859\u001B[0m     \u001B[38;5;66;03m# wrap results\u001B[39;00m\n\u001B[1;32m    860\u001B[0m     \u001B[38;5;28;01mreturn\u001B[39;00m \u001B[38;5;28mself\u001B[39m\u001B[38;5;241m.\u001B[39mwrap_results(results, res_index)\n",
      "File \u001B[0;32m~/.conda/envs/ML/lib/python3.10/site-packages/pandas/core/apply.py:873\u001B[0m, in \u001B[0;36mFrameApply.apply_series_generator\u001B[0;34m(self)\u001B[0m\n\u001B[1;32m    870\u001B[0m \u001B[38;5;28;01mwith\u001B[39;00m option_context(\u001B[38;5;124m\"\u001B[39m\u001B[38;5;124mmode.chained_assignment\u001B[39m\u001B[38;5;124m\"\u001B[39m, \u001B[38;5;28;01mNone\u001B[39;00m):\n\u001B[1;32m    871\u001B[0m     \u001B[38;5;28;01mfor\u001B[39;00m i, v \u001B[38;5;129;01min\u001B[39;00m \u001B[38;5;28menumerate\u001B[39m(series_gen):\n\u001B[1;32m    872\u001B[0m         \u001B[38;5;66;03m# ignore SettingWithCopy here in case the user mutates\u001B[39;00m\n\u001B[0;32m--> 873\u001B[0m         results[i] \u001B[38;5;241m=\u001B[39m \u001B[38;5;28;43mself\u001B[39;49m\u001B[38;5;241;43m.\u001B[39;49m\u001B[43mf\u001B[49m\u001B[43m(\u001B[49m\u001B[43mv\u001B[49m\u001B[43m)\u001B[49m\n\u001B[1;32m    874\u001B[0m         \u001B[38;5;28;01mif\u001B[39;00m \u001B[38;5;28misinstance\u001B[39m(results[i], ABCSeries):\n\u001B[1;32m    875\u001B[0m             \u001B[38;5;66;03m# If we have a view on v, we need to make a copy because\u001B[39;00m\n\u001B[1;32m    876\u001B[0m             \u001B[38;5;66;03m#  series_generator will swap out the underlying data\u001B[39;00m\n\u001B[1;32m    877\u001B[0m             results[i] \u001B[38;5;241m=\u001B[39m results[i]\u001B[38;5;241m.\u001B[39mcopy(deep\u001B[38;5;241m=\u001B[39m\u001B[38;5;28;01mFalse\u001B[39;00m)\n",
      "Input \u001B[0;32mIn [30]\u001B[0m, in \u001B[0;36mlabel_to_index\u001B[0;34m(l)\u001B[0m\n\u001B[1;32m      1\u001B[0m \u001B[38;5;28;01mdef\u001B[39;00m \u001B[38;5;21mlabel_to_index\u001B[39m(l):\n\u001B[0;32m----> 2\u001B[0m     l[\u001B[38;5;124m\"\u001B[39m\u001B[38;5;124mlabel\u001B[39m\u001B[38;5;124m\"\u001B[39m] \u001B[38;5;241m=\u001B[39m \u001B[43mtype_dict_v2i\u001B[49m\u001B[43m[\u001B[49m\u001B[43ml\u001B[49m\u001B[43m[\u001B[49m\u001B[38;5;124;43m\"\u001B[39;49m\u001B[38;5;124;43mlabel\u001B[39;49m\u001B[38;5;124;43m\"\u001B[39;49m\u001B[43m]\u001B[49m\u001B[43m]\u001B[49m\n\u001B[1;32m      3\u001B[0m     \u001B[38;5;28;01mreturn\u001B[39;00m l\n",
      "\u001B[0;31mKeyError\u001B[0m: 0"
     ]
    }
   ],
   "source": [
    "def label_to_index(l):\n",
    "    l[\"label\"] = type_dict_v2i[l[\"label\"]]\n",
    "    return l\n",
    "#train.loc[:,\"label\"] = \\\n",
    "train.apply(label_to_index,axis=1)"
   ],
   "metadata": {
    "collapsed": false,
    "pycharm": {
     "name": "#%%\n"
    }
   }
  },
  {
   "cell_type": "code",
   "execution_count": 31,
   "outputs": [
    {
     "data": {
      "text/plain": "                  image label\n0          images/0.jpg     0\n1          images/1.jpg     0\n2          images/2.jpg     0\n3          images/3.jpg     0\n4          images/4.jpg     0\n...                 ...   ...\n18348  images/18348.jpg   107\n18349  images/18349.jpg    75\n18350  images/18350.jpg   133\n18351  images/18351.jpg    73\n18352  images/18352.jpg    19\n\n[18353 rows x 2 columns]",
      "text/html": "<div>\n<style scoped>\n    .dataframe tbody tr th:only-of-type {\n        vertical-align: middle;\n    }\n\n    .dataframe tbody tr th {\n        vertical-align: top;\n    }\n\n    .dataframe thead th {\n        text-align: right;\n    }\n</style>\n<table border=\"1\" class=\"dataframe\">\n  <thead>\n    <tr style=\"text-align: right;\">\n      <th></th>\n      <th>image</th>\n      <th>label</th>\n    </tr>\n  </thead>\n  <tbody>\n    <tr>\n      <th>0</th>\n      <td>images/0.jpg</td>\n      <td>0</td>\n    </tr>\n    <tr>\n      <th>1</th>\n      <td>images/1.jpg</td>\n      <td>0</td>\n    </tr>\n    <tr>\n      <th>2</th>\n      <td>images/2.jpg</td>\n      <td>0</td>\n    </tr>\n    <tr>\n      <th>3</th>\n      <td>images/3.jpg</td>\n      <td>0</td>\n    </tr>\n    <tr>\n      <th>4</th>\n      <td>images/4.jpg</td>\n      <td>0</td>\n    </tr>\n    <tr>\n      <th>...</th>\n      <td>...</td>\n      <td>...</td>\n    </tr>\n    <tr>\n      <th>18348</th>\n      <td>images/18348.jpg</td>\n      <td>107</td>\n    </tr>\n    <tr>\n      <th>18349</th>\n      <td>images/18349.jpg</td>\n      <td>75</td>\n    </tr>\n    <tr>\n      <th>18350</th>\n      <td>images/18350.jpg</td>\n      <td>133</td>\n    </tr>\n    <tr>\n      <th>18351</th>\n      <td>images/18351.jpg</td>\n      <td>73</td>\n    </tr>\n    <tr>\n      <th>18352</th>\n      <td>images/18352.jpg</td>\n      <td>19</td>\n    </tr>\n  </tbody>\n</table>\n<p>18353 rows × 2 columns</p>\n</div>"
     },
     "execution_count": 31,
     "metadata": {},
     "output_type": "execute_result"
    }
   ],
   "source": [
    "train"
   ],
   "metadata": {
    "collapsed": false,
    "pycharm": {
     "name": "#%%\n"
    }
   }
  },
  {
   "cell_type": "code",
   "execution_count": 32,
   "outputs": [],
   "source": [
    "train.to_csv(\"./data/train_processed.csv\")"
   ],
   "metadata": {
    "collapsed": false,
    "pycharm": {
     "name": "#%%\n"
    }
   }
  }
 ],
 "metadata": {
  "kernelspec": {
   "display_name": "Python 3",
   "language": "python",
   "name": "python3"
  },
  "language_info": {
   "codemirror_mode": {
    "name": "ipython",
    "version": 2
   },
   "file_extension": ".py",
   "mimetype": "text/x-python",
   "name": "python",
   "nbconvert_exporter": "python",
   "pygments_lexer": "ipython2",
   "version": "2.7.6"
  }
 },
 "nbformat": 4,
 "nbformat_minor": 0
}